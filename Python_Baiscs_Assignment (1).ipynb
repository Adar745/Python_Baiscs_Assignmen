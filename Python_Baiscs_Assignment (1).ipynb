{
  "nbformat": 4,
  "nbformat_minor": 0,
  "metadata": {
    "colab": {
      "provenance": []
    },
    "kernelspec": {
      "name": "python3",
      "display_name": "Python 3"
    },
    "language_info": {
      "name": "python"
    }
  },
  "cells": [
    {
      "cell_type": "code",
      "execution_count": null,
      "metadata": {
        "id": "Tk6vJRDOyK64"
      },
      "outputs": [],
      "source": [
        "#Qes 1 : Explain the key features of Python that make it a popular choice for programming.\n",
        "\n",
        "#Python is a highly popular programming language, widely favored for several key features that make it accessible and versatile\n",
        "#Python is a programming language that is easy to understand and write, making it a popular choice among developers and programmers.\n",
        "#Python has a large and active community of developers, an extensive standard library, and third-party packages for various domains.\n",
        "#Readability and Simplicity:Python's syntax is straightforward, resembling plain English. It requires fewer lines of code to perform tasks compared to many other languages, which enhances readability and maintainability. This makes it a great choice for beginners and professionals alike.\n",
        "\n"
      ]
    },
    {
      "cell_type": "code",
      "source": [
        "#Qes 2: Describe the role of predefined keywords in Python and provide examples of how they are used in a programe.\n",
        "\n",
        "#Keywords are reserved words in Python that have special meanings and cannot be used as identifiers (variable names, function names, etc.).\n",
        "#Examples of keywords include if, else, while, for, def, class, import, try, except, return, True, False, None, etc.\n",
        "\n",
        "\n",
        "#example of and else:\n",
        "x = 10\n",
        "if x > 5:\n",
        "    print(\"x is greater than 5\")\n",
        "else:\n",
        "    print(\"x is 5 or less\")\n"
      ],
      "metadata": {
        "colab": {
          "base_uri": "https://localhost:8080/"
        },
        "id": "W5abyJF2yz6l",
        "outputId": "fd8e4a3f-9621-41b0-acb6-7dcf812c46ae"
      },
      "execution_count": null,
      "outputs": [
        {
          "output_type": "stream",
          "name": "stdout",
          "text": [
            "x is greater than 5\n"
          ]
        }
      ]
    },
    {
      "cell_type": "code",
      "source": [
        "#example of true and false\n",
        "x = True\n",
        "if x:\n",
        "    print(\"x is True\")\n",
        "else:\n",
        "    print(\"x is False\")"
      ],
      "metadata": {
        "colab": {
          "base_uri": "https://localhost:8080/"
        },
        "id": "purnUlor8-L2",
        "outputId": "d2dfc281-1689-4b78-adcc-ac470277a229"
      },
      "execution_count": null,
      "outputs": [
        {
          "output_type": "stream",
          "name": "stdout",
          "text": [
            "x is True\n"
          ]
        }
      ]
    },
    {
      "cell_type": "code",
      "source": [
        "# Qes 3:  Compare and contrast mutable and immutable objects in Python with examples?\n",
        "\n",
        "#In Python, objects can be categorized as **mutable** or **immutable**, depending on whether their value or state can be modified after creation.\n",
        "\n",
        "#1.Mutable Objects\n",
        "#Mutable objects are those that can be changed after they are created. This means the object's internal state (its value) can be modified without creating a new object. Common examples of mutable objects in Python include (list):\n",
        "\n",
        "#Example of a mutable object (list):\n",
        "list_cont = [1 , 2 , 3 , 3.5 , \"Aditya\"]\n",
        "list_cont [4]\n",
        "\n"
      ],
      "metadata": {
        "colab": {
          "base_uri": "https://localhost:8080/",
          "height": 36
        },
        "id": "_wyXrv67-2iY",
        "outputId": "f80038e0-177e-4547-e5f5-c3f9e51830ef"
      },
      "execution_count": null,
      "outputs": [
        {
          "output_type": "execute_result",
          "data": {
            "text/plain": [
              "'Aditya'"
            ],
            "application/vnd.google.colaboratory.intrinsic+json": {
              "type": "string"
            }
          },
          "metadata": {},
          "execution_count": 17
        }
      ]
    },
    {
      "cell_type": "code",
      "source": [
        "#mutability:\n",
        "# Modify the list by adding a new element:\n",
        "list_cont[4] = \"Adarsh\""
      ],
      "metadata": {
        "id": "A6BBRFTD_1sK"
      },
      "execution_count": null,
      "outputs": []
    },
    {
      "cell_type": "code",
      "source": [
        "list_cont[4] #mutable"
      ],
      "metadata": {
        "colab": {
          "base_uri": "https://localhost:8080/",
          "height": 36
        },
        "id": "SIpuDMAsAns4",
        "outputId": "9ad90ed1-4ea6-47de-91b0-cb788368e2ba"
      },
      "execution_count": null,
      "outputs": [
        {
          "output_type": "execute_result",
          "data": {
            "text/plain": [
              "'Adarsh'"
            ],
            "application/vnd.google.colaboratory.intrinsic+json": {
              "type": "string"
            }
          },
          "metadata": {},
          "execution_count": 19
        }
      ]
    },
    {
      "cell_type": "code",
      "source": [
        "#In this example, `my_list` is a mutable object. When we append `4` to `my_list`, it changes in place, and no new list is created.\n"
      ],
      "metadata": {
        "id": "hE9wNs15AtWC"
      },
      "execution_count": null,
      "outputs": []
    },
    {
      "cell_type": "code",
      "source": [
        "#2.Immutable Objects\n",
        "\n",
        "#Immutable objects, on the other hand, cannot be changed once they are created. Any operation that seems to modify an immutable object will instead create a new object with the modified value. Common examples of immutable objects in Python include (int)\n",
        "\n",
        "#Example of an immutable object (string):\n",
        "name = \"Aditya\"\n",
        "name[4]\n"
      ],
      "metadata": {
        "colab": {
          "base_uri": "https://localhost:8080/",
          "height": 36
        },
        "id": "A_QRusIUA9d7",
        "outputId": "d5c13aea-e67f-406b-e7cb-bee949a4ad0a"
      },
      "execution_count": null,
      "outputs": [
        {
          "output_type": "execute_result",
          "data": {
            "text/plain": [
              "'y'"
            ],
            "application/vnd.google.colaboratory.intrinsic+json": {
              "type": "string"
            }
          },
          "metadata": {},
          "execution_count": 26
        }
      ]
    },
    {
      "cell_type": "code",
      "source": [
        "# Attempt to modify the string by adding more text\n",
        "name[4] = a"
      ],
      "metadata": {
        "colab": {
          "base_uri": "https://localhost:8080/",
          "height": 158
        },
        "id": "N6R7o1JoBz5H",
        "outputId": "71b30dfb-c3e8-455e-a87b-3fee6a7e2eb5"
      },
      "execution_count": null,
      "outputs": [
        {
          "output_type": "error",
          "ename": "NameError",
          "evalue": "name 'a' is not defined",
          "traceback": [
            "\u001b[0;31m---------------------------------------------------------------------------\u001b[0m",
            "\u001b[0;31mNameError\u001b[0m                                 Traceback (most recent call last)",
            "\u001b[0;32m<ipython-input-27-50201dca0157>\u001b[0m in \u001b[0;36m<cell line: 2>\u001b[0;34m()\u001b[0m\n\u001b[1;32m      1\u001b[0m \u001b[0;31m# Attempt to modify the string by adding more text\u001b[0m\u001b[0;34m\u001b[0m\u001b[0;34m\u001b[0m\u001b[0m\n\u001b[0;32m----> 2\u001b[0;31m \u001b[0mname\u001b[0m\u001b[0;34m[\u001b[0m\u001b[0;36m4\u001b[0m\u001b[0;34m]\u001b[0m \u001b[0;34m=\u001b[0m \u001b[0ma\u001b[0m\u001b[0;34m\u001b[0m\u001b[0;34m\u001b[0m\u001b[0m\n\u001b[0m",
            "\u001b[0;31mNameError\u001b[0m: name 'a' is not defined"
          ]
        }
      ]
    },
    {
      "cell_type": "code",
      "source": [
        "#In this example, string is immutable. When we try to modify it by adding `\"a\"`, Python shows the error. The original string remains same.\n",
        "\n",
        "#Key Differences between Mutable and Immutable Objects\n",
        "\n",
        "#| Aspect              | Mutable                                                                              | Immutable                                                                     |\n",
        "#|---------------------|--------------------------------------------------------------------------------------|-------------------------------------------------------------------------------|\n",
        "#| Modification        | Can be modified in place.                                                            | Cannot be modified; any change creates a new object.                          |\n",
        "#| Examples            | List, Dictionary, Set, Custom objects                                                | Integer, Float, String, Tuple, Frozenset                                      |\n",
        "#| Memory Efficiency   | Can be more memory-efficient for updates, as changes are done in place.              | Changes create new objects, so it may use more memory for frequent updates.   |\n",
        "#| Hashability         | Generally not hashable (cannot be used as keys in dictionaries or elements in sets). | Generally hashable (can be used as keys in dictionaries or elements in sets). |\n",
        "\n",
        "#Practical Implications\n",
        "#1.Performance**: Mutable objects can be more efficient for frequent modifications because they don’t create new objects with each change.\n",
        "#2.Hashing**: Immutable objects are hashable and can be used as dictionary keys or set elements, which mutable objects generally cannot.\n",
        "#3.Data Integrity**: Immutable objects are safer for use as constants or in concurrent programming, as their values remain consistent.\n",
        "\n",
        "#Understanding when to use mutable vs. immutable objects helps in writing efficient, maintainable, and error-free Python code.\n"
      ],
      "metadata": {
        "id": "MOTNY1UaCtcv"
      },
      "execution_count": null,
      "outputs": []
    },
    {
      "cell_type": "code",
      "source": [
        "#Qes 4: Discuss the different types of operators in Python and provide examples of how they are used?\n",
        "\n",
        " #Python supports various types of operators, including arithmetic operators (+, -, *, /), comparison operators (==, !=, <, >), logical operators (and, or, not), assignment operators (=, +=, -=, *=, /=), etc.\n",
        "\n",
        " #exapmle of arithmetic operators\n",
        "a=5\n",
        "b=3\n",
        "print(a+b)\n",
        "print(a-b)\n",
        "print(a*b)\n",
        "print(a/b)"
      ],
      "metadata": {
        "colab": {
          "base_uri": "https://localhost:8080/"
        },
        "id": "uirxoxjkDATY",
        "outputId": "b677cfba-50a5-4b41-e271-c57a9520930f"
      },
      "execution_count": null,
      "outputs": [
        {
          "output_type": "stream",
          "name": "stdout",
          "text": [
            "8\n",
            "2\n",
            "15\n",
            "1.6666666666666667\n"
          ]
        }
      ]
    },
    {
      "cell_type": "code",
      "source": [
        "#examples of comparison operators:\n",
        "a=10\n",
        "b=5\n",
        "print(a==b)\n",
        "print(a!=b)\n",
        "print(a<b)\n",
        "print(a>b)"
      ],
      "metadata": {
        "colab": {
          "base_uri": "https://localhost:8080/"
        },
        "id": "dVIgMIwXE3RL",
        "outputId": "91a45175-108d-4e3b-c4ac-d63262ad2466"
      },
      "execution_count": null,
      "outputs": [
        {
          "output_type": "stream",
          "name": "stdout",
          "text": [
            "False\n",
            "True\n",
            "False\n",
            "True\n"
          ]
        }
      ]
    },
    {
      "cell_type": "code",
      "source": [
        "from pickle import TRUE\n",
        "#examples of logical oprators\n",
        "a=8\n",
        "b=False\n",
        "print(a and b)\n",
        "print(a or b)\n",
        "print(not a)\n"
      ],
      "metadata": {
        "colab": {
          "base_uri": "https://localhost:8080/"
        },
        "id": "TAzQf9fDFYZ6",
        "outputId": "8c3b3485-4bd9-42c3-bec3-1fc705fbc870"
      },
      "execution_count": null,
      "outputs": [
        {
          "output_type": "stream",
          "name": "stdout",
          "text": [
            "False\n",
            "8\n",
            "False\n"
          ]
        }
      ]
    },
    {
      "cell_type": "code",
      "source": [
        "#examples of assignment operators:\n",
        "a=5\n",
        "b=6\n",
        "print(a)\n",
        "a+=b\n",
        "print(a)\n",
        "a-=b\n",
        "print(a)\n",
        "a*=b\n",
        "print(a)\n",
        "a/=b\n",
        "print(a)"
      ],
      "metadata": {
        "colab": {
          "base_uri": "https://localhost:8080/"
        },
        "id": "zeJ4cMRNFrax",
        "outputId": "15bb5e22-45cc-46e7-fe17-ad3a33882530"
      },
      "execution_count": null,
      "outputs": [
        {
          "output_type": "stream",
          "name": "stdout",
          "text": [
            "5\n",
            "11\n",
            "5\n",
            "30\n",
            "5.0\n"
          ]
        }
      ]
    },
    {
      "cell_type": "code",
      "source": [
        "#Qes 5:  Explain the concept of type casting in Python with examples?\n",
        "\n",
        "#Type casting is often necessary for performing arithmetic operations, data manipulation, and input/output operations in Python programs.It is the process of converting one data type into another. Python supports both implicit type casting (automatic conversion) and explicit type casting (manual conversion).\n",
        "#Python provides built-in functions for type casting, such as int(), float(), str(), list(), tuple(), dict(), etc.\n",
        "\n",
        "#examples of type casting are as follow:\n",
        "\n",
        "a=1\n",
        "type(a)\n"
      ],
      "metadata": {
        "colab": {
          "base_uri": "https://localhost:8080/"
        },
        "id": "6TS0Kq1hGCTV",
        "outputId": "6afcfdf5-5e60-4fbd-976b-51f199d86c36"
      },
      "execution_count": null,
      "outputs": [
        {
          "output_type": "execute_result",
          "data": {
            "text/plain": [
              "int"
            ]
          },
          "metadata": {},
          "execution_count": 38
        }
      ]
    },
    {
      "cell_type": "code",
      "source": [
        "a=1.8\n",
        "type(a)"
      ],
      "metadata": {
        "colab": {
          "base_uri": "https://localhost:8080/"
        },
        "id": "3vKohEJPHfBF",
        "outputId": "f0c1cb71-4964-43aa-b8e1-f62aa87441ca"
      },
      "execution_count": null,
      "outputs": [
        {
          "output_type": "execute_result",
          "data": {
            "text/plain": [
              "float"
            ]
          },
          "metadata": {},
          "execution_count": 39
        }
      ]
    },
    {
      "cell_type": "code",
      "source": [
        "a=\"Adarsh\"\n",
        "type(a)"
      ],
      "metadata": {
        "colab": {
          "base_uri": "https://localhost:8080/"
        },
        "id": "L9GchXsIHkGt",
        "outputId": "eac91c1e-fe2f-42e3-87c1-e1594333095f"
      },
      "execution_count": null,
      "outputs": [
        {
          "output_type": "execute_result",
          "data": {
            "text/plain": [
              "str"
            ]
          },
          "metadata": {},
          "execution_count": 41
        }
      ]
    },
    {
      "cell_type": "code",
      "source": [
        "a=[1 , 2 , 3 , 4 ,]\n",
        "type(a)"
      ],
      "metadata": {
        "colab": {
          "base_uri": "https://localhost:8080/"
        },
        "id": "O8L4_bGhHogK",
        "outputId": "dd333592-612a-4267-808b-561374a8ad60"
      },
      "execution_count": null,
      "outputs": [
        {
          "output_type": "execute_result",
          "data": {
            "text/plain": [
              "list"
            ]
          },
          "metadata": {},
          "execution_count": 42
        }
      ]
    },
    {
      "cell_type": "code",
      "source": [
        "#Type casting is essential in Python for controlling data types during arithmetic operations, data input, and interactions between different data types.\n"
      ],
      "metadata": {
        "id": "nR5w11IvH3xo"
      },
      "execution_count": null,
      "outputs": []
    },
    {
      "cell_type": "code",
      "source": [
        "#Qes 6 :How do conditional statements work in Python? Illustrate with examples?\n",
        "\n",
        "#Python supports conditional statements such as if, elif (else if), and else to control the flow of execution.\n",
        "#Conditionals can be nested to handle multiple conditions and control different branches of execution based on the outcome of logical expressions.\n",
        "\n",
        "#examples:\n",
        "name = input(\"Enter your name\")\n",
        "age = int(input(\"Enter your age\"))\n",
        "email = input(\"Enter your email\")\n",
        "Location = input(\"Enter your location\")\n",
        "\n",
        "#appliying the conditions:\n",
        "if name ==\"\":\n",
        "  print(\"please enter your name\")\n",
        "elif age<25 or age>60:\n",
        "  print(\"please enter age between 25 and 60\")\n",
        "elif '@' not in email:\n",
        "  print(\"please enter valid email\")\n",
        "elif Location == \"Kanpur\":\n",
        "  print(\"please enter valid location\")\n",
        "else:\n",
        "    print(\"your details are submitted successfully\")\n"
      ],
      "metadata": {
        "colab": {
          "base_uri": "https://localhost:8080/"
        },
        "id": "IK0L0jiIIKBv",
        "outputId": "2fbec5bc-f18a-4360-afe8-dd7b3690a5ec"
      },
      "execution_count": null,
      "outputs": [
        {
          "output_type": "stream",
          "name": "stdout",
          "text": [
            "Enter your nameAdarsh \n",
            "Enter your age27\n",
            "Enter your emailadarsh@gmail\n",
            "Enter your locationkanpur\n",
            "your details are submitted successfully\n"
          ]
        }
      ]
    },
    {
      "cell_type": "code",
      "source": [
        " #This decision-making ability makes Python’s conditional statements essential for developing dynamic and interactive applications.\n",
        "\n"
      ],
      "metadata": {
        "id": "dgWvfbh5Ijr0"
      },
      "execution_count": null,
      "outputs": []
    },
    {
      "cell_type": "code",
      "source": [
        "#Qes 7: Describe the different types of loops in Python and their use cases with examples?\n",
        "\n",
        "#in Python, loops are employed to repeat a sequence of actions or code until a specific condition is fulfilled.\n",
        "#Python offers two primary types of loops: for loops and while loops.\n",
        "#“for” loops are used for iterating over a sequence of elements, while “while” loops are used for executing code until a specified condition becomes False\n",
        "\n",
        "#examples of while loops :\n",
        "a=20\n",
        "i=1\n",
        "while i<=a:\n",
        "  print(i)\n",
        "  i+=1\n"
      ],
      "metadata": {
        "colab": {
          "base_uri": "https://localhost:8080/"
        },
        "id": "x4LZjehDMGPq",
        "outputId": "201dbc6c-5563-4de6-f6b0-c0eeb071137a"
      },
      "execution_count": null,
      "outputs": [
        {
          "output_type": "stream",
          "name": "stdout",
          "text": [
            "1\n",
            "2\n",
            "3\n",
            "4\n",
            "5\n",
            "6\n",
            "7\n",
            "8\n",
            "9\n",
            "10\n",
            "11\n",
            "12\n",
            "13\n",
            "14\n",
            "15\n",
            "16\n",
            "17\n",
            "18\n",
            "19\n",
            "20\n"
          ]
        }
      ]
    },
    {
      "cell_type": "code",
      "source": [
        "#examples of for loops:\n",
        "i = int(input(\"Enter a number\"))\n",
        "for j in range (1,11):\n",
        "   print(i,\"*\",j,\"=\",i*j)\n",
        "   print()"
      ],
      "metadata": {
        "colab": {
          "base_uri": "https://localhost:8080/"
        },
        "id": "z5f4Xw1ENxdJ",
        "outputId": "63c25381-2a7c-4ff7-8645-a04444549ee8"
      },
      "execution_count": null,
      "outputs": [
        {
          "output_type": "stream",
          "name": "stdout",
          "text": [
            "Enter a number5\n",
            "5 * 1 = 5\n",
            "\n",
            "5 * 2 = 10\n",
            "\n",
            "5 * 3 = 15\n",
            "\n",
            "5 * 4 = 20\n",
            "\n",
            "5 * 5 = 25\n",
            "\n",
            "5 * 6 = 30\n",
            "\n",
            "5 * 7 = 35\n",
            "\n",
            "5 * 8 = 40\n",
            "\n",
            "5 * 9 = 45\n",
            "\n",
            "5 * 10 = 50\n",
            "\n"
          ]
        }
      ]
    },
    {
      "cell_type": "code",
      "source": [
        "#for loop: Best for iterating over sequences or ranges when the number of iterations is known.\n",
        "#while loop: Ideal for running code repeatedly until a specific condition changes.\n",
        "#Nested loops: Useful for multi-dimensional data or complex iteration structures.\n",
        "#Loop control statements: break, continue, and pass provide added control within loops."
      ],
      "metadata": {
        "id": "Ee0g1drxOJKN"
      },
      "execution_count": null,
      "outputs": []
    }
  ]
}